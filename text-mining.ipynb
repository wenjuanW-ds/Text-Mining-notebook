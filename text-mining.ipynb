{
 "cells": [
  {
   "cell_type": "markdown",
   "metadata": {},
   "source": [
    "## TEXT MINING "
   ]
  },
  {
   "cell_type": "code",
   "execution_count": 1,
   "metadata": {},
   "outputs": [],
   "source": [
    "import pandas as pd\n",
    "import numpy as np\n",
    "import glob\n",
    "import jieba "
   ]
  },
  {
   "cell_type": "code",
   "execution_count": 2,
   "metadata": {},
   "outputs": [],
   "source": [
    "from wordcloud import WordCloud "
   ]
  },
  {
   "cell_type": "code",
   "execution_count": 3,
   "metadata": {},
   "outputs": [],
   "source": [
    "filenames = glob.glob(r'C:\\Users\\wenjuan wang\\Desktop\\附件2-Dictionary\\Macro_News' + \"/*.xlsx\")"
   ]
  },
  {
   "cell_type": "code",
   "execution_count": 4,
   "metadata": {},
   "outputs": [],
   "source": [
    "dfs = []\n",
    "for filename in filenames:\n",
    "    dfs.append(pd.read_excel(filename))\n",
    "    \n",
    "D_frame = pd.concat(dfs,ignore_index=True)"
   ]
  },
  {
   "cell_type": "code",
   "execution_count": 5,
   "metadata": {},
   "outputs": [
    {
     "data": {
      "text/html": [
       "<div>\n",
       "<style scoped>\n",
       "    .dataframe tbody tr th:only-of-type {\n",
       "        vertical-align: middle;\n",
       "    }\n",
       "\n",
       "    .dataframe tbody tr th {\n",
       "        vertical-align: top;\n",
       "    }\n",
       "\n",
       "    .dataframe thead th {\n",
       "        text-align: right;\n",
       "    }\n",
       "</style>\n",
       "<table border=\"1\" class=\"dataframe\">\n",
       "  <thead>\n",
       "    <tr style=\"text-align: right;\">\n",
       "      <th></th>\n",
       "      <th>Unnamed: 0</th>\n",
       "      <th>datetime</th>\n",
       "      <th>content</th>\n",
       "      <th>title</th>\n",
       "      <th>channels</th>\n",
       "      <th>content_chinese</th>\n",
       "      <th>words</th>\n",
       "      <th>words_clean</th>\n",
       "    </tr>\n",
       "  </thead>\n",
       "  <tbody>\n",
       "    <tr>\n",
       "      <th>0</th>\n",
       "      <td>0</td>\n",
       "      <td>2019-01-13 20:41:00</td>\n",
       "      <td>私募排排网数据中心最新统计，2018年全年，采用股票策略、固定收益策略、管理期货策略、宏观策...</td>\n",
       "      <td>2018年管理期货策略私募基金表现最佳 平均收益7.63%</td>\n",
       "      <td>NaN</td>\n",
       "      <td>NaN</td>\n",
       "      <td>NaN</td>\n",
       "      <td>NaN</td>\n",
       "    </tr>\n",
       "    <tr>\n",
       "      <th>1</th>\n",
       "      <td>1</td>\n",
       "      <td>2019-01-13 20:12:00</td>\n",
       "      <td>海南省政府与腾讯集团在三亚举行工作座谈，三亚市政府与腾讯集团签署战略合作协议。双方将在打造“...</td>\n",
       "      <td>腾讯将在三亚设立区域总部</td>\n",
       "      <td>NaN</td>\n",
       "      <td>NaN</td>\n",
       "      <td>NaN</td>\n",
       "      <td>NaN</td>\n",
       "    </tr>\n",
       "    <tr>\n",
       "      <th>2</th>\n",
       "      <td>2</td>\n",
       "      <td>2019-01-13 20:07:00</td>\n",
       "      <td>1月13日晚间公告集锦：九有股份1月15日起实施其他风险警示；新疆交建：不存在未披露的重大事...</td>\n",
       "      <td>1月13日晚间公告集锦：深深房A自1月14日起继续停牌</td>\n",
       "      <td>NaN</td>\n",
       "      <td>NaN</td>\n",
       "      <td>NaN</td>\n",
       "      <td>NaN</td>\n",
       "    </tr>\n",
       "    <tr>\n",
       "      <th>3</th>\n",
       "      <td>3</td>\n",
       "      <td>2019-01-13 19:38:00</td>\n",
       "      <td>山西省国资委企业改革处处长高春毅指出，山西省三年关闭退出煤矿数量省属57座，全省88座，省属...</td>\n",
       "      <td>山西国资委官员：煤炭去产能债务问题未同步解决 建议国家...</td>\n",
       "      <td>NaN</td>\n",
       "      <td>NaN</td>\n",
       "      <td>NaN</td>\n",
       "      <td>NaN</td>\n",
       "    </tr>\n",
       "    <tr>\n",
       "      <th>4</th>\n",
       "      <td>4</td>\n",
       "      <td>2019-01-13 19:25:00</td>\n",
       "      <td>人社部部长张纪南表示，将实施高校毕业生就业创业计划，基层成长计划和青年就业启航计划等专项计划...</td>\n",
       "      <td>人社部：研究企业降低社保费率的实施方案</td>\n",
       "      <td>NaN</td>\n",
       "      <td>NaN</td>\n",
       "      <td>NaN</td>\n",
       "      <td>NaN</td>\n",
       "    </tr>\n",
       "  </tbody>\n",
       "</table>\n",
       "</div>"
      ],
      "text/plain": [
       "   Unnamed: 0             datetime  \\\n",
       "0           0  2019-01-13 20:41:00   \n",
       "1           1  2019-01-13 20:12:00   \n",
       "2           2  2019-01-13 20:07:00   \n",
       "3           3  2019-01-13 19:38:00   \n",
       "4           4  2019-01-13 19:25:00   \n",
       "\n",
       "                                             content  \\\n",
       "0  私募排排网数据中心最新统计，2018年全年，采用股票策略、固定收益策略、管理期货策略、宏观策...   \n",
       "1  海南省政府与腾讯集团在三亚举行工作座谈，三亚市政府与腾讯集团签署战略合作协议。双方将在打造“...   \n",
       "2  1月13日晚间公告集锦：九有股份1月15日起实施其他风险警示；新疆交建：不存在未披露的重大事...   \n",
       "3  山西省国资委企业改革处处长高春毅指出，山西省三年关闭退出煤矿数量省属57座，全省88座，省属...   \n",
       "4  人社部部长张纪南表示，将实施高校毕业生就业创业计划，基层成长计划和青年就业启航计划等专项计划...   \n",
       "\n",
       "                            title channels content_chinese words words_clean  \n",
       "0   2018年管理期货策略私募基金表现最佳 平均收益7.63%      NaN             NaN   NaN         NaN  \n",
       "1                    腾讯将在三亚设立区域总部      NaN             NaN   NaN         NaN  \n",
       "2     1月13日晚间公告集锦：深深房A自1月14日起继续停牌      NaN             NaN   NaN         NaN  \n",
       "3  山西国资委官员：煤炭去产能债务问题未同步解决 建议国家...      NaN             NaN   NaN         NaN  \n",
       "4             人社部：研究企业降低社保费率的实施方案      NaN             NaN   NaN         NaN  "
      ]
     },
     "execution_count": 5,
     "metadata": {},
     "output_type": "execute_result"
    }
   ],
   "source": [
    "D_frame.head()"
   ]
  },
  {
   "cell_type": "code",
   "execution_count": 6,
   "metadata": {},
   "outputs": [
    {
     "data": {
      "text/plain": [
       "(223063, 8)"
      ]
     },
     "execution_count": 6,
     "metadata": {},
     "output_type": "execute_result"
    }
   ],
   "source": [
    "D_frame.shape"
   ]
  },
  {
   "cell_type": "code",
   "execution_count": 7,
   "metadata": {},
   "outputs": [],
   "source": [
    "df_Stock = pd.read_excel(r\"C:\\Users\\wenjuan wang\\Desktop\\附件2-Dictionary\\Stock_News\\Multi_Web_20190803_Craw.xlsx\")"
   ]
  },
  {
   "cell_type": "code",
   "execution_count": 8,
   "metadata": {},
   "outputs": [
    {
     "data": {
      "text/html": [
       "<div>\n",
       "<style scoped>\n",
       "    .dataframe tbody tr th:only-of-type {\n",
       "        vertical-align: middle;\n",
       "    }\n",
       "\n",
       "    .dataframe tbody tr th {\n",
       "        vertical-align: top;\n",
       "    }\n",
       "\n",
       "    .dataframe thead th {\n",
       "        text-align: right;\n",
       "    }\n",
       "</style>\n",
       "<table border=\"1\" class=\"dataframe\">\n",
       "  <thead>\n",
       "    <tr style=\"text-align: right;\">\n",
       "      <th></th>\n",
       "      <th>Unnamed: 0</th>\n",
       "      <th>Unnamed: 0.1</th>\n",
       "      <th>desc</th>\n",
       "      <th>href</th>\n",
       "      <th>title</th>\n",
       "      <th>url</th>\n",
       "      <th>date</th>\n",
       "      <th>keyword</th>\n",
       "      <th>st_time</th>\n",
       "      <th>end_time</th>\n",
       "      <th>source</th>\n",
       "      <th>article</th>\n",
       "    </tr>\n",
       "  </thead>\n",
       "  <tbody>\n",
       "    <tr>\n",
       "      <th>0</th>\n",
       "      <td>1</td>\n",
       "      <td>0</td>\n",
       "      <td>2002年10月9日 - 山东国际电源表现也弱于港股大盘。 【财经论坛】【短信推荐】【关闭窗...</td>\n",
       "      <td>http://www.baidu.com/link?url=Jiu3Lx1xx51hi5q2...</td>\n",
       "      <td>内地电力股香港股市受挫_滚动新闻_财经纵横_新浪网</td>\n",
       "      <td>finance.sina.com.cn/ro...</td>\n",
       "      <td>2002年10月9日</td>\n",
       "      <td>港股</td>\n",
       "      <td>2002-12-06</td>\n",
       "      <td>2003-01-05</td>\n",
       "      <td>finance.sina.com.cn</td>\n",
       "      <td>近日 在香港上市的内地电力股普遍大跌 拖累国企股指数本月以来下跌 跌幅大于恒生指数 在香港...</td>\n",
       "    </tr>\n",
       "    <tr>\n",
       "      <th>1</th>\n",
       "      <td>2</td>\n",
       "      <td>0</td>\n",
       "      <td>2002年11月25日 - 2002年11月19日,青岛健特生物投资股份有限公司(股票代码:...</td>\n",
       "      <td>http://www.baidu.com/link?url=sBew5Cf3YRXE7wFp...</td>\n",
       "      <td>网易财经频道-史玉柱高价卖掉脑白金</td>\n",
       "      <td>money.163.com/editor/0...</td>\n",
       "      <td>2002年11月25日</td>\n",
       "      <td>股票</td>\n",
       "      <td>2002-12-06</td>\n",
       "      <td>2003-01-05</td>\n",
       "      <td>money.163.com</td>\n",
       "      <td>NaN</td>\n",
       "    </tr>\n",
       "    <tr>\n",
       "      <th>2</th>\n",
       "      <td>3</td>\n",
       "      <td>1</td>\n",
       "      <td>2002年12月11日 - 股票并上市后一年内不转让本人所持股份公司的全部股票。本公司亦承诺...</td>\n",
       "      <td>http://www.baidu.com/link?url=UkQe85JXQxVukymS...</td>\n",
       "      <td>腾达建设集团股份有限公司首次公开发行股票上市公告书</td>\n",
       "      <td>quotes.money.163.com/f...</td>\n",
       "      <td>2002年12月11日</td>\n",
       "      <td>股票</td>\n",
       "      <td>2002-12-06</td>\n",
       "      <td>2003-01-05</td>\n",
       "      <td>money.163.com</td>\n",
       "      <td>关闭窗口</td>\n",
       "    </tr>\n",
       "    <tr>\n",
       "      <th>3</th>\n",
       "      <td>4</td>\n",
       "      <td>2</td>\n",
       "      <td>2002年11月27日 - 本公司首次公开发行股票前股东所持股份的流通限制及期限:根据国家有...</td>\n",
       "      <td>http://www.baidu.com/link?url=RPrhLj7AhZoqL-qZ...</td>\n",
       "      <td>国药股份(600511)首次公开发行股票上市公告书</td>\n",
       "      <td>quotes.money.163.com/f...</td>\n",
       "      <td>2002年11月27日</td>\n",
       "      <td>股票</td>\n",
       "      <td>2002-12-06</td>\n",
       "      <td>2003-01-05</td>\n",
       "      <td>money.163.com</td>\n",
       "      <td>关闭窗口</td>\n",
       "    </tr>\n",
       "    <tr>\n",
       "      <th>4</th>\n",
       "      <td>5</td>\n",
       "      <td>0</td>\n",
       "      <td>2002年11月15日 - 引言:这次我们选出了中国股市之中\"最烂\"的20只股票,我们看到过...</td>\n",
       "      <td>http://www.baidu.com/link?url=7NoOuk6hZKRb9biX...</td>\n",
       "      <td>20只最烂股票排行榜(上)_滚动新闻_财经纵横_新浪网</td>\n",
       "      <td>finance.sina.com.cn/ro...</td>\n",
       "      <td>2002年11月15日</td>\n",
       "      <td>股票</td>\n",
       "      <td>2002-12-06</td>\n",
       "      <td>2003-01-05</td>\n",
       "      <td>finance.sina.com.cn</td>\n",
       "      <td>情报 明新文化 撰文 刘晖 世纪星源 深原野 代码 话说 建立之初的深圳证券市场 只有 只...</td>\n",
       "    </tr>\n",
       "  </tbody>\n",
       "</table>\n",
       "</div>"
      ],
      "text/plain": [
       "   Unnamed: 0  Unnamed: 0.1  \\\n",
       "0           1             0   \n",
       "1           2             0   \n",
       "2           3             1   \n",
       "3           4             2   \n",
       "4           5             0   \n",
       "\n",
       "                                                desc  \\\n",
       "0  2002年10月9日 - 山东国际电源表现也弱于港股大盘。 【财经论坛】【短信推荐】【关闭窗...   \n",
       "1  2002年11月25日 - 2002年11月19日,青岛健特生物投资股份有限公司(股票代码:...   \n",
       "2  2002年12月11日 - 股票并上市后一年内不转让本人所持股份公司的全部股票。本公司亦承诺...   \n",
       "3  2002年11月27日 - 本公司首次公开发行股票前股东所持股份的流通限制及期限:根据国家有...   \n",
       "4  2002年11月15日 - 引言:这次我们选出了中国股市之中\"最烂\"的20只股票,我们看到过...   \n",
       "\n",
       "                                                href  \\\n",
       "0  http://www.baidu.com/link?url=Jiu3Lx1xx51hi5q2...   \n",
       "1  http://www.baidu.com/link?url=sBew5Cf3YRXE7wFp...   \n",
       "2  http://www.baidu.com/link?url=UkQe85JXQxVukymS...   \n",
       "3  http://www.baidu.com/link?url=RPrhLj7AhZoqL-qZ...   \n",
       "4  http://www.baidu.com/link?url=7NoOuk6hZKRb9biX...   \n",
       "\n",
       "                         title                         url         date  \\\n",
       "0    内地电力股香港股市受挫_滚动新闻_财经纵横_新浪网  finance.sina.com.cn/ro...    2002年10月9日   \n",
       "1            网易财经频道-史玉柱高价卖掉脑白金  money.163.com/editor/0...   2002年11月25日   \n",
       "2    腾达建设集团股份有限公司首次公开发行股票上市公告书  quotes.money.163.com/f...   2002年12月11日   \n",
       "3    国药股份(600511)首次公开发行股票上市公告书  quotes.money.163.com/f...   2002年11月27日   \n",
       "4  20只最烂股票排行榜(上)_滚动新闻_财经纵横_新浪网  finance.sina.com.cn/ro...   2002年11月15日   \n",
       "\n",
       "  keyword    st_time   end_time               source  \\\n",
       "0      港股 2002-12-06 2003-01-05  finance.sina.com.cn   \n",
       "1      股票 2002-12-06 2003-01-05        money.163.com   \n",
       "2      股票 2002-12-06 2003-01-05        money.163.com   \n",
       "3      股票 2002-12-06 2003-01-05        money.163.com   \n",
       "4      股票 2002-12-06 2003-01-05  finance.sina.com.cn   \n",
       "\n",
       "                                             article  \n",
       "0   近日 在香港上市的内地电力股普遍大跌 拖累国企股指数本月以来下跌 跌幅大于恒生指数 在香港...  \n",
       "1                                                NaN  \n",
       "2                                               关闭窗口  \n",
       "3                                               关闭窗口  \n",
       "4   情报 明新文化 撰文 刘晖 世纪星源 深原野 代码 话说 建立之初的深圳证券市场 只有 只...  "
      ]
     },
     "execution_count": 8,
     "metadata": {},
     "output_type": "execute_result"
    }
   ],
   "source": [
    "df_Stock.head()"
   ]
  },
  {
   "cell_type": "code",
   "execution_count": 9,
   "metadata": {},
   "outputs": [],
   "source": [
    "df_Stock.drop(columns=['Unnamed: 0','Unnamed: 0.1', 'href', 'url', 'keyword','st_time','end_time','source'], axis=1, inplace=True)"
   ]
  },
  {
   "cell_type": "code",
   "execution_count": 10,
   "metadata": {},
   "outputs": [],
   "source": [
    "df_Stock.dropna(inplace=True)"
   ]
  },
  {
   "cell_type": "code",
   "execution_count": 11,
   "metadata": {},
   "outputs": [
    {
     "data": {
      "text/html": [
       "<div>\n",
       "<style scoped>\n",
       "    .dataframe tbody tr th:only-of-type {\n",
       "        vertical-align: middle;\n",
       "    }\n",
       "\n",
       "    .dataframe tbody tr th {\n",
       "        vertical-align: top;\n",
       "    }\n",
       "\n",
       "    .dataframe thead th {\n",
       "        text-align: right;\n",
       "    }\n",
       "</style>\n",
       "<table border=\"1\" class=\"dataframe\">\n",
       "  <thead>\n",
       "    <tr style=\"text-align: right;\">\n",
       "      <th></th>\n",
       "      <th>desc</th>\n",
       "      <th>title</th>\n",
       "      <th>date</th>\n",
       "      <th>article</th>\n",
       "    </tr>\n",
       "  </thead>\n",
       "  <tbody>\n",
       "    <tr>\n",
       "      <th>0</th>\n",
       "      <td>2002年10月9日 - 山东国际电源表现也弱于港股大盘。 【财经论坛】【短信推荐】【关闭窗...</td>\n",
       "      <td>内地电力股香港股市受挫_滚动新闻_财经纵横_新浪网</td>\n",
       "      <td>2002年10月9日</td>\n",
       "      <td>近日 在香港上市的内地电力股普遍大跌 拖累国企股指数本月以来下跌 跌幅大于恒生指数 在香港...</td>\n",
       "    </tr>\n",
       "    <tr>\n",
       "      <th>2</th>\n",
       "      <td>2002年12月11日 - 股票并上市后一年内不转让本人所持股份公司的全部股票。本公司亦承诺...</td>\n",
       "      <td>腾达建设集团股份有限公司首次公开发行股票上市公告书</td>\n",
       "      <td>2002年12月11日</td>\n",
       "      <td>关闭窗口</td>\n",
       "    </tr>\n",
       "    <tr>\n",
       "      <th>3</th>\n",
       "      <td>2002年11月27日 - 本公司首次公开发行股票前股东所持股份的流通限制及期限:根据国家有...</td>\n",
       "      <td>国药股份(600511)首次公开发行股票上市公告书</td>\n",
       "      <td>2002年11月27日</td>\n",
       "      <td>关闭窗口</td>\n",
       "    </tr>\n",
       "    <tr>\n",
       "      <th>4</th>\n",
       "      <td>2002年11月15日 - 引言:这次我们选出了中国股市之中\"最烂\"的20只股票,我们看到过...</td>\n",
       "      <td>20只最烂股票排行榜(上)_滚动新闻_财经纵横_新浪网</td>\n",
       "      <td>2002年11月15日</td>\n",
       "      <td>情报 明新文化 撰文 刘晖 世纪星源 深原野 代码 话说 建立之初的深圳证券市场 只有 只...</td>\n",
       "    </tr>\n",
       "    <tr>\n",
       "      <th>5</th>\n",
       "      <td>2002年11月26日 - 1997年6月,红光实业隐瞒巨额亏损,骗取股票上市;1998年,...</td>\n",
       "      <td>“红光案”:今日和解_经济半小时_财经纵横_新浪网</td>\n",
       "      <td>2002年11月26日</td>\n",
       "      <td>今天上午 我国内地首例证券民事赔偿案 红光案 在成都中级人民法院审理 这起民事赔偿案早在 ...</td>\n",
       "    </tr>\n",
       "  </tbody>\n",
       "</table>\n",
       "</div>"
      ],
      "text/plain": [
       "                                                desc  \\\n",
       "0  2002年10月9日 - 山东国际电源表现也弱于港股大盘。 【财经论坛】【短信推荐】【关闭窗...   \n",
       "2  2002年12月11日 - 股票并上市后一年内不转让本人所持股份公司的全部股票。本公司亦承诺...   \n",
       "3  2002年11月27日 - 本公司首次公开发行股票前股东所持股份的流通限制及期限:根据国家有...   \n",
       "4  2002年11月15日 - 引言:这次我们选出了中国股市之中\"最烂\"的20只股票,我们看到过...   \n",
       "5  2002年11月26日 - 1997年6月,红光实业隐瞒巨额亏损,骗取股票上市;1998年,...   \n",
       "\n",
       "                         title         date  \\\n",
       "0    内地电力股香港股市受挫_滚动新闻_财经纵横_新浪网   2002年10月9日   \n",
       "2    腾达建设集团股份有限公司首次公开发行股票上市公告书  2002年12月11日   \n",
       "3    国药股份(600511)首次公开发行股票上市公告书  2002年11月27日   \n",
       "4  20只最烂股票排行榜(上)_滚动新闻_财经纵横_新浪网  2002年11月15日   \n",
       "5    “红光案”:今日和解_经济半小时_财经纵横_新浪网  2002年11月26日   \n",
       "\n",
       "                                             article  \n",
       "0   近日 在香港上市的内地电力股普遍大跌 拖累国企股指数本月以来下跌 跌幅大于恒生指数 在香港...  \n",
       "2                                               关闭窗口  \n",
       "3                                               关闭窗口  \n",
       "4   情报 明新文化 撰文 刘晖 世纪星源 深原野 代码 话说 建立之初的深圳证券市场 只有 只...  \n",
       "5   今天上午 我国内地首例证券民事赔偿案 红光案 在成都中级人民法院审理 这起民事赔偿案早在 ...  "
      ]
     },
     "execution_count": 11,
     "metadata": {},
     "output_type": "execute_result"
    }
   ],
   "source": [
    "df_Stock.head()"
   ]
  },
  {
   "cell_type": "code",
   "execution_count": 12,
   "metadata": {},
   "outputs": [
    {
     "data": {
      "text/plain": [
       "(23149, 4)"
      ]
     },
     "execution_count": 12,
     "metadata": {},
     "output_type": "execute_result"
    }
   ],
   "source": [
    "df_Stock.shape"
   ]
  },
  {
   "cell_type": "code",
   "execution_count": 13,
   "metadata": {},
   "outputs": [],
   "source": [
    "df_Stock.rename(columns={'article':'content'}, inplace=True)"
   ]
  },
  {
   "cell_type": "code",
   "execution_count": 14,
   "metadata": {
    "scrolled": true
   },
   "outputs": [
    {
     "data": {
      "text/html": [
       "<div>\n",
       "<style scoped>\n",
       "    .dataframe tbody tr th:only-of-type {\n",
       "        vertical-align: middle;\n",
       "    }\n",
       "\n",
       "    .dataframe tbody tr th {\n",
       "        vertical-align: top;\n",
       "    }\n",
       "\n",
       "    .dataframe thead th {\n",
       "        text-align: right;\n",
       "    }\n",
       "</style>\n",
       "<table border=\"1\" class=\"dataframe\">\n",
       "  <thead>\n",
       "    <tr style=\"text-align: right;\">\n",
       "      <th></th>\n",
       "      <th>desc</th>\n",
       "      <th>title</th>\n",
       "      <th>date</th>\n",
       "      <th>content</th>\n",
       "    </tr>\n",
       "  </thead>\n",
       "  <tbody>\n",
       "    <tr>\n",
       "      <th>0</th>\n",
       "      <td>2002年10月9日 - 山东国际电源表现也弱于港股大盘。 【财经论坛】【短信推荐】【关闭窗...</td>\n",
       "      <td>内地电力股香港股市受挫_滚动新闻_财经纵横_新浪网</td>\n",
       "      <td>2002年10月9日</td>\n",
       "      <td>近日 在香港上市的内地电力股普遍大跌 拖累国企股指数本月以来下跌 跌幅大于恒生指数 在香港...</td>\n",
       "    </tr>\n",
       "    <tr>\n",
       "      <th>2</th>\n",
       "      <td>2002年12月11日 - 股票并上市后一年内不转让本人所持股份公司的全部股票。本公司亦承诺...</td>\n",
       "      <td>腾达建设集团股份有限公司首次公开发行股票上市公告书</td>\n",
       "      <td>2002年12月11日</td>\n",
       "      <td>关闭窗口</td>\n",
       "    </tr>\n",
       "    <tr>\n",
       "      <th>3</th>\n",
       "      <td>2002年11月27日 - 本公司首次公开发行股票前股东所持股份的流通限制及期限:根据国家有...</td>\n",
       "      <td>国药股份(600511)首次公开发行股票上市公告书</td>\n",
       "      <td>2002年11月27日</td>\n",
       "      <td>关闭窗口</td>\n",
       "    </tr>\n",
       "    <tr>\n",
       "      <th>4</th>\n",
       "      <td>2002年11月15日 - 引言:这次我们选出了中国股市之中\"最烂\"的20只股票,我们看到过...</td>\n",
       "      <td>20只最烂股票排行榜(上)_滚动新闻_财经纵横_新浪网</td>\n",
       "      <td>2002年11月15日</td>\n",
       "      <td>情报 明新文化 撰文 刘晖 世纪星源 深原野 代码 话说 建立之初的深圳证券市场 只有 只...</td>\n",
       "    </tr>\n",
       "    <tr>\n",
       "      <th>5</th>\n",
       "      <td>2002年11月26日 - 1997年6月,红光实业隐瞒巨额亏损,骗取股票上市;1998年,...</td>\n",
       "      <td>“红光案”:今日和解_经济半小时_财经纵横_新浪网</td>\n",
       "      <td>2002年11月26日</td>\n",
       "      <td>今天上午 我国内地首例证券民事赔偿案 红光案 在成都中级人民法院审理 这起民事赔偿案早在 ...</td>\n",
       "    </tr>\n",
       "  </tbody>\n",
       "</table>\n",
       "</div>"
      ],
      "text/plain": [
       "                                                desc  \\\n",
       "0  2002年10月9日 - 山东国际电源表现也弱于港股大盘。 【财经论坛】【短信推荐】【关闭窗...   \n",
       "2  2002年12月11日 - 股票并上市后一年内不转让本人所持股份公司的全部股票。本公司亦承诺...   \n",
       "3  2002年11月27日 - 本公司首次公开发行股票前股东所持股份的流通限制及期限:根据国家有...   \n",
       "4  2002年11月15日 - 引言:这次我们选出了中国股市之中\"最烂\"的20只股票,我们看到过...   \n",
       "5  2002年11月26日 - 1997年6月,红光实业隐瞒巨额亏损,骗取股票上市;1998年,...   \n",
       "\n",
       "                         title         date  \\\n",
       "0    内地电力股香港股市受挫_滚动新闻_财经纵横_新浪网   2002年10月9日   \n",
       "2    腾达建设集团股份有限公司首次公开发行股票上市公告书  2002年12月11日   \n",
       "3    国药股份(600511)首次公开发行股票上市公告书  2002年11月27日   \n",
       "4  20只最烂股票排行榜(上)_滚动新闻_财经纵横_新浪网  2002年11月15日   \n",
       "5    “红光案”:今日和解_经济半小时_财经纵横_新浪网  2002年11月26日   \n",
       "\n",
       "                                             content  \n",
       "0   近日 在香港上市的内地电力股普遍大跌 拖累国企股指数本月以来下跌 跌幅大于恒生指数 在香港...  \n",
       "2                                               关闭窗口  \n",
       "3                                               关闭窗口  \n",
       "4   情报 明新文化 撰文 刘晖 世纪星源 深原野 代码 话说 建立之初的深圳证券市场 只有 只...  \n",
       "5   今天上午 我国内地首例证券民事赔偿案 红光案 在成都中级人民法院审理 这起民事赔偿案早在 ...  "
      ]
     },
     "execution_count": 14,
     "metadata": {},
     "output_type": "execute_result"
    }
   ],
   "source": [
    "df_Stock.head()"
   ]
  },
  {
   "cell_type": "markdown",
   "metadata": {},
   "source": [
    "## Merge DataFrame"
   ]
  },
  {
   "cell_type": "code",
   "execution_count": 15,
   "metadata": {},
   "outputs": [],
   "source": [
    "df_content = pd.concat([D_frame['content'].astype(str),df_Stock['content'].astype(str)])"
   ]
  },
  {
   "cell_type": "code",
   "execution_count": 16,
   "metadata": {},
   "outputs": [
    {
     "data": {
      "text/plain": [
       "1000    从青岛市城阳区公证处获悉，接青岛市国土资源和房屋管理局高新区分局通知，暂停执行《青岛市高新区...\n",
       "1000     上市以来 向上市公司股东共募集资金 亿元 派现 亿元 公司全称 丽江玉龙旅游股份有限公司 ...\n",
       "Name: content, dtype: object"
      ]
     },
     "execution_count": 16,
     "metadata": {},
     "output_type": "execute_result"
    }
   ],
   "source": [
    "df_content[1000]"
   ]
  },
  {
   "cell_type": "markdown",
   "metadata": {},
   "source": [
    "## split world"
   ]
  },
  {
   "cell_type": "code",
   "execution_count": 17,
   "metadata": {},
   "outputs": [],
   "source": [
    "content = df_content.to_list()"
   ]
  },
  {
   "cell_type": "code",
   "execution_count": 23,
   "metadata": {},
   "outputs": [],
   "source": [
    "content_S = []\n",
    "\n",
    "for line in content :\n",
    "    current_segment = jieba.lcut(line)\n",
    "    if len(current_segment) > 1 and current_segment != '\\r\\n':\n",
    "        content_S.append(current_segment)"
   ]
  },
  {
   "cell_type": "code",
   "execution_count": 24,
   "metadata": {},
   "outputs": [
    {
     "data": {
      "text/plain": [
       "['从',\n",
       " '青岛市',\n",
       " '城阳区',\n",
       " '公证处',\n",
       " '获悉',\n",
       " '，',\n",
       " '接',\n",
       " '青岛市',\n",
       " '国土资源',\n",
       " '和',\n",
       " '房屋',\n",
       " '管理局',\n",
       " '高新区',\n",
       " '分局',\n",
       " '通知',\n",
       " '，',\n",
       " '暂停',\n",
       " '执行',\n",
       " '《',\n",
       " '青岛市',\n",
       " '高新区',\n",
       " '商品房',\n",
       " '公证',\n",
       " '摇号',\n",
       " '售房',\n",
       " '规则',\n",
       " '》',\n",
       " '。']"
      ]
     },
     "execution_count": 24,
     "metadata": {},
     "output_type": "execute_result"
    }
   ],
   "source": [
    "content_S[1000]"
   ]
  },
  {
   "cell_type": "code",
   "execution_count": 25,
   "metadata": {},
   "outputs": [
    {
     "data": {
      "text/html": [
       "<div>\n",
       "<style scoped>\n",
       "    .dataframe tbody tr th:only-of-type {\n",
       "        vertical-align: middle;\n",
       "    }\n",
       "\n",
       "    .dataframe tbody tr th {\n",
       "        vertical-align: top;\n",
       "    }\n",
       "\n",
       "    .dataframe thead th {\n",
       "        text-align: right;\n",
       "    }\n",
       "</style>\n",
       "<table border=\"1\" class=\"dataframe\">\n",
       "  <thead>\n",
       "    <tr style=\"text-align: right;\">\n",
       "      <th></th>\n",
       "      <th>content_S</th>\n",
       "    </tr>\n",
       "  </thead>\n",
       "  <tbody>\n",
       "    <tr>\n",
       "      <th>0</th>\n",
       "      <td>[私募, 排排, 网, 数据中心, 最新, 统计, ，, 2018, 年, 全年, ，, 采...</td>\n",
       "    </tr>\n",
       "    <tr>\n",
       "      <th>1</th>\n",
       "      <td>[海南省政府, 与, 腾讯, 集团, 在, 三亚, 举行, 工作, 座谈, ，, 三亚市, ...</td>\n",
       "    </tr>\n",
       "    <tr>\n",
       "      <th>2</th>\n",
       "      <td>[1, 月, 13, 日, 晚间, 公告, 集锦, ：, 九有, 股份, 1, 月, 15,...</td>\n",
       "    </tr>\n",
       "    <tr>\n",
       "      <th>3</th>\n",
       "      <td>[山西省, 国资委, 企业, 改革, 处处长, 高春毅, 指出, ，, 山西省, 三年, 关...</td>\n",
       "    </tr>\n",
       "    <tr>\n",
       "      <th>4</th>\n",
       "      <td>[人, 社部, 部长, 张纪南, 表示, ，, 将, 实施, 高校, 毕业生, 就业, 创业...</td>\n",
       "    </tr>\n",
       "  </tbody>\n",
       "</table>\n",
       "</div>"
      ],
      "text/plain": [
       "                                           content_S\n",
       "0  [私募, 排排, 网, 数据中心, 最新, 统计, ，, 2018, 年, 全年, ，, 采...\n",
       "1  [海南省政府, 与, 腾讯, 集团, 在, 三亚, 举行, 工作, 座谈, ，, 三亚市, ...\n",
       "2  [1, 月, 13, 日, 晚间, 公告, 集锦, ：, 九有, 股份, 1, 月, 15,...\n",
       "3  [山西省, 国资委, 企业, 改革, 处处长, 高春毅, 指出, ，, 山西省, 三年, 关...\n",
       "4  [人, 社部, 部长, 张纪南, 表示, ，, 将, 实施, 高校, 毕业生, 就业, 创业..."
      ]
     },
     "execution_count": 25,
     "metadata": {},
     "output_type": "execute_result"
    }
   ],
   "source": [
    "df_con = pd.DataFrame({'content_S': content_S})\n",
    "df_con.head()"
   ]
  },
  {
   "cell_type": "markdown",
   "metadata": {},
   "source": [
    "## remove stop world"
   ]
  },
  {
   "cell_type": "code",
   "execution_count": 27,
   "metadata": {},
   "outputs": [],
   "source": [
    "stopwords = pd.read_csv(r\"C:\\Users\\wenjuan wang\\Desktop\\cn_stopwords.txt\", index_col=False, sep=\"\\t\", quoting=3,names=['stopword'], encoding='utf-8')"
   ]
  },
  {
   "cell_type": "code",
   "execution_count": 28,
   "metadata": {},
   "outputs": [],
   "source": [
    "CON = df_con.content_S.values.tolist()"
   ]
  },
  {
   "cell_type": "code",
   "execution_count": 29,
   "metadata": {},
   "outputs": [],
   "source": [
    "STOP = stopwords.stopword.values.tolist()"
   ]
  },
  {
   "cell_type": "code",
   "execution_count": 31,
   "metadata": {},
   "outputs": [],
   "source": [
    "def drop_stopwords(CON, STOP):\n",
    "    content_clean = []\n",
    "    all_words = []\n",
    "    for line in CON:\n",
    "        line_clean = []\n",
    "        for word in line:\n",
    "            if word in STOP:\n",
    "                continue\n",
    "            line_clean.append(word)\n",
    "            all_words.append(str(word))\n",
    "        content_clean.append(line_clean)\n",
    "    return content_clean,all_words    \n",
    "\n",
    "CON_clean, Allwords = drop_stopwords(CON,STOP)"
   ]
  },
  {
   "cell_type": "code",
   "execution_count": 32,
   "metadata": {},
   "outputs": [],
   "source": [
    "df_CON = pd.DataFrame({\"content_clean\":CON_clean})"
   ]
  },
  {
   "cell_type": "code",
   "execution_count": 33,
   "metadata": {},
   "outputs": [],
   "source": [
    "df_words = pd.DataFrame({\"allWords\":Allwords})"
   ]
  },
  {
   "cell_type": "markdown",
   "metadata": {},
   "source": [
    "## count frequency of words"
   ]
  },
  {
   "cell_type": "code",
   "execution_count": 34,
   "metadata": {},
   "outputs": [],
   "source": [
    "df_W = df_words['allWords'].value_counts().rename_axis('word').reset_index(name='counts')"
   ]
  },
  {
   "cell_type": "code",
   "execution_count": 36,
   "metadata": {},
   "outputs": [
    {
     "data": {
      "text/html": [
       "<div>\n",
       "<style scoped>\n",
       "    .dataframe tbody tr th:only-of-type {\n",
       "        vertical-align: middle;\n",
       "    }\n",
       "\n",
       "    .dataframe tbody tr th {\n",
       "        vertical-align: top;\n",
       "    }\n",
       "\n",
       "    .dataframe thead th {\n",
       "        text-align: right;\n",
       "    }\n",
       "</style>\n",
       "<table border=\"1\" class=\"dataframe\">\n",
       "  <thead>\n",
       "    <tr style=\"text-align: right;\">\n",
       "      <th></th>\n",
       "      <th>word</th>\n",
       "      <th>counts</th>\n",
       "    </tr>\n",
       "  </thead>\n",
       "  <tbody>\n",
       "    <tr>\n",
       "      <th>0</th>\n",
       "      <td></td>\n",
       "      <td>5195329</td>\n",
       "    </tr>\n",
       "    <tr>\n",
       "      <th>1</th>\n",
       "      <td>市场</td>\n",
       "      <td>155504</td>\n",
       "    </tr>\n",
       "    <tr>\n",
       "      <th>2</th>\n",
       "      <td>\\n</td>\n",
       "      <td>102292</td>\n",
       "    </tr>\n",
       "    <tr>\n",
       "      <th>3</th>\n",
       "      <td>投资</td>\n",
       "      <td>100812</td>\n",
       "    </tr>\n",
       "    <tr>\n",
       "      <th>4</th>\n",
       "      <td>证券</td>\n",
       "      <td>99971</td>\n",
       "    </tr>\n",
       "  </tbody>\n",
       "</table>\n",
       "</div>"
      ],
      "text/plain": [
       "  word   counts\n",
       "0       5195329\n",
       "1   市场   155504\n",
       "2   \\n   102292\n",
       "3   投资   100812\n",
       "4   证券    99971"
      ]
     },
     "execution_count": 36,
     "metadata": {},
     "output_type": "execute_result"
    }
   ],
   "source": [
    "df_W.head()"
   ]
  },
  {
   "cell_type": "code",
   "execution_count": 37,
   "metadata": {},
   "outputs": [],
   "source": [
    "import matplotlib.pyplot as plt\n",
    "%matplotlib inline\n",
    "import matplotlib"
   ]
  },
  {
   "cell_type": "code",
   "execution_count": 38,
   "metadata": {},
   "outputs": [],
   "source": [
    "wordcloud = WordCloud(font_path=\"simhei.ttf\",background_color=\"black\", max_font_size=80)\n",
    "word_dic = {x[0]:x[1] for x in df_W.head(100).values}"
   ]
  },
  {
   "cell_type": "code",
   "execution_count": 39,
   "metadata": {},
   "outputs": [],
   "source": [
    "wc = wordcloud.fit_words(word_dic)"
   ]
  },
  {
   "cell_type": "code",
   "execution_count": 44,
   "metadata": {},
   "outputs": [
    {
     "data": {
      "text/plain": [
       "<function matplotlib.pyplot.show(*args, **kw)>"
      ]
     },
     "execution_count": 44,
     "metadata": {},
     "output_type": "execute_result"
    },
    {
     "data": {
      "image/png": "[encoded data removed]",
      "text/plain": [
       "<Figure size 1440x720 with 1 Axes>"
      ]
     },
     "metadata": {},
     "output_type": "display_data"
    }
   ],
   "source": [
    "plt.figure(figsize=(20,10),facecolor='k')\n",
    "plt.imshow(wordcloud)\n",
    "plt.axis('off')\n",
    "plt.show"
   ]
  },
  {
   "cell_type": "markdown",
   "metadata": {},
   "source": [
    "\"\"\"\n",
    "\n",
    "Df_TF = []\n",
    "import jieba.analyse\n",
    "\n",
    "\n",
    "for i in range(len(content_S)):\n",
    "    #print(df_content[index])\n",
    "    content_S_str = \" \".join(content_S[i])\n",
    "    Df_TF.append((\" \".join(jieba.analyse.extract_tags(content_S_str, topK=20, withWeight=False))))\n",
    "    \n",
    "Df_TF[0].split()\n",
    "words = []\n",
    "for i in range(len(Df_TF)):\n",
    "    words.append(Df_TF[i].split())\n",
    "words_all = []\n",
    "\n",
    "for line in words:\n",
    "    for word in line :\n",
    "        words_all.append(word)   \n",
    "        \n",
    "words_all\n",
    "df_wo = pd.DataFrame({\"wordAll\":words_all})\n",
    "df_Wo = df_wo['wordAll'].value_counts().rename_axis('word').reset_index(name='counts')df_Wo.head()\n",
    "wordcloud = WordCloud(font_path=\"simhei.ttf\",background_color=\"black\", max_font_size=80)\n",
    "word_dictory = {x[0]:x[1] for x in df_Wo.head(200).values}\n",
    "wc = wordcloud.fit_words(word_dictory)\n",
    "plt.figure(figsize=(20,10),facecolor='k')\n",
    "plt.imshow(wordcloud)\n",
    "plt.axis('off')\n",
    "plt.show\n",
    "\n",
    "\"\"\""
   ]
  }
 ],
 "metadata": {
  "kernelspec": {
   "display_name": "Python 3",
   "language": "python",
   "name": "python3"
  },
  "language_info": {
   "codemirror_mode": {
    "name": "ipython",
    "version": 3
   },
   "file_extension": ".py",
   "mimetype": "text/x-python",
   "name": "python",
   "nbconvert_exporter": "python",
   "pygments_lexer": "ipython3",
   "version": "3.7.6"
  }
 },
 "nbformat": 4,
 "nbformat_minor": 2
}
